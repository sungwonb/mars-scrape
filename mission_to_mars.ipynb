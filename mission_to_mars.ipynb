{
 "cells": [
  {
   "cell_type": "code",
   "execution_count": 1,
   "metadata": {
    "collapsed": true
   },
   "outputs": [],
   "source": [
    "from splinter import Browser\n",
    "from bs4 import BeautifulSoup as bs\n",
    "import pymongo\n",
    "import requests\n",
    "import pandas as pd\n",
    "import time"
   ]
  },
  {
   "cell_type": "code",
   "execution_count": 2,
   "metadata": {
    "collapsed": true
   },
   "outputs": [],
   "source": [
    "conn = 'mongodb://localhost:27017'\n",
    "client = pymongo.MongoClient(conn)\n",
    "\n",
    "db = client.mars_db\n",
    "collection = db.items"
   ]
  },
  {
   "cell_type": "code",
   "execution_count": 3,
   "metadata": {
    "collapsed": true
   },
   "outputs": [],
   "source": [
    "# initialize dictionary to store scraped information\n",
    "mars_dictionary = {}\n",
    "\n",
    "# mars news website\n",
    "url = 'https://mars.nasa.gov/news/?page=0&per_page=15&order=publish_date+desc%2Ccreated_at+desc&search=&category=19%2C165%2C184%2C204&blank_scope=Latest'\n",
    "\n",
    "# use 'requests' to retrieve requests object and then convert to html through beautifulsoup\n",
    "response = requests.get(url)\n",
    "soup = bs(response.text,'lxml')\n",
    "\n",
    "# print(soup.prettify())\n",
    "\n",
    "# scrape using beautifulsoup\n",
    "first_article = soup.find('div',class_='slide')\n",
    "news_title = first_article.find('div',class_='content_title').a.text.strip()\n",
    "news_summary = first_article.find('div',class_='rollover_description_inner').text.strip()\n",
    "\n",
    "# store info into dictionary\n",
    "mars_dictionary['news_summary'] = news_summary\n",
    "mars_dictionary['news_title'] = news_title"
   ]
  },
  {
   "cell_type": "code",
   "execution_count": 6,
   "metadata": {
    "collapsed": true
   },
   "outputs": [],
   "source": [
    "# start up chromebrowser to scrape images from JPL's website\n",
    "executable_path = {'executable_path': '/usr/local/bin/chromedriver'}\n",
    "browser = Browser('chrome', **executable_path)\n",
    "\n",
    "images_url = 'https://www.jpl.nasa.gov/spaceimages/?search=&category=Mars'\n",
    "jpl_url = 'https://www.jpl.nasa.gov'\n",
    "\n",
    "browser.visit(images_url)\n",
    "\n",
    "# assign current page's html to 'html' variable\n",
    "html = browser.html\n",
    "\n",
    "# use beautifulsoup to parse the html\n",
    "soup = bs(html,'html.parser')\n",
    "\n",
    "# click on the 'Full Image' link from featured image\n",
    "browser.click_link_by_id('full_image')\n",
    "time.sleep(1)\n",
    "# assign html from current browser\n",
    "image_html = browser.html\n",
    "image_soup = bs(image_html,'html.parser')\n",
    "\n",
    "# scrape for featured image's url\n",
    "try:\n",
    "    modal_img_url = image_soup.find('div',class_='fancybox-inner').img['src']\n",
    "    # build full url \n",
    "    featured_image_url = jpl_url + modal_img_url\n",
    "\n",
    "    # store info in dictionary\n",
    "    mars_dictionary['featured_image_url'] = featured_image_url\n",
    "except:\n",
    "    time.sleep(5)\n",
    "    modal_img_url = image_soup.find('div',class_='fancybox-inner').img['src']\n",
    "    # build full url \n",
    "    featured_image_url = jpl_url + modal_img_url\n",
    "\n",
    "    # store info in dictionary\n",
    "    mars_dictionary['featured_image_url'] = featured_image_url"
   ]
  },
  {
   "cell_type": "code",
   "execution_count": 7,
   "metadata": {},
   "outputs": [
    {
     "data": {
      "text/plain": [
       "'/spaceimages/images/mediumsize/PIA17761_ip.jpg'"
      ]
     },
     "execution_count": 7,
     "metadata": {},
     "output_type": "execute_result"
    }
   ],
   "source": [
    "modal_img_url"
   ]
  },
  {
   "cell_type": "code",
   "execution_count": 8,
   "metadata": {
    "collapsed": true
   },
   "outputs": [],
   "source": [
    "import tweepy\n",
    "\n",
    "# Twitter API Keys\n",
    "consumer_key = \"Ed4RNulN1lp7AbOooHa9STCoU\"\n",
    "consumer_secret = \"P7cUJlmJZq0VaCY0Jg7COliwQqzK0qYEyUF9Y0idx4ujb3ZlW5\"\n",
    "access_token = \"839621358724198402-dzdOsx2WWHrSuBwyNUiqSEnTivHozAZ\"\n",
    "access_token_secret = \"dCZ80uNRbFDjxdU2EckmNiSckdoATach6Q8zb7YYYE5ER\"\n",
    "\n",
    "\n",
    "# Setup Tweepy API Authentication\n",
    "auth = tweepy.OAuthHandler(consumer_key, consumer_secret)\n",
    "auth.set_access_token(access_token, access_token_secret)\n",
    "api = tweepy.API(auth, parser=tweepy.parsers.JSONParser())"
   ]
  },
  {
   "cell_type": "code",
   "execution_count": 9,
   "metadata": {
    "collapsed": true
   },
   "outputs": [],
   "source": [
    "target_user = 'MarsWxReport'\n",
    "\n",
    "mars_weather_tweets = api.user_timeline(target_user)\n",
    "\n",
    "for tweet in mars_weather_tweets:\n",
    "    if 'Sol' in tweet['text']:\n",
    "        mars_weather = tweet['text']\n",
    "\n",
    "# store into dictionary\n",
    "mars_dictionary['mars_weather_tweet'] = mars_weather"
   ]
  },
  {
   "cell_type": "code",
   "execution_count": 110,
   "metadata": {
    "collapsed": true
   },
   "outputs": [],
   "source": [
    "# initialize dictionary\n",
    "mars_facts = {}\n",
    "mars_facts_url = 'https://space-facts.com/mars/'\n",
    "\n",
    "# request html from url and import into beautifulsoup\n",
    "response = requests.get(mars_facts_url)\n",
    "soup = bs(response.text,'lxml')\n",
    "\n",
    "# find table -> tbody\n",
    "table_html = str(soup.table).replace(\"\\n\",\"\")\n",
    "marsfacts_df = pd.read_html(table_html,index_col=0)[0]\n",
    "marsfacts_df.index.names = ['Description']\n",
    "marsfacts_df.columns = ['Values']\n",
    "marsfacts_html_string = marsfacts_df.to_html(header=False).replace(\"\\n\",\"\")"
   ]
  },
  {
   "cell_type": "code",
   "execution_count": 111,
   "metadata": {},
   "outputs": [
    {
     "data": {
      "text/plain": [
       "'<table border=\"1\" class=\"dataframe\">  <tbody>    <tr>      <th>Equatorial Diameter:</th>      <td>6,792 km</td>    </tr>    <tr>      <th>Polar Diameter:</th>      <td>6,752 km</td>    </tr>    <tr>      <th>Mass:</th>      <td>6.42 x 10^23 kg (10.7% Earth)</td>    </tr>    <tr>      <th>Moons:</th>      <td>2 (Phobos &amp; Deimos)</td>    </tr>    <tr>      <th>Orbit Distance:</th>      <td>227,943,824 km (1.52 AU)</td>    </tr>    <tr>      <th>Orbit Period:</th>      <td>687 days (1.9 years)</td>    </tr>    <tr>      <th>Surface Temperature:</th>      <td>-153 to 20 °C</td>    </tr>    <tr>      <th>First Record:</th>      <td>2nd millennium BC</td>    </tr>    <tr>      <th>Recorded By:</th>      <td>Egyptian astronomers</td>    </tr>  </tbody></table>'"
      ]
     },
     "execution_count": 111,
     "metadata": {},
     "output_type": "execute_result"
    }
   ],
   "source": [
    "marsfacts_html_string"
   ]
  },
  {
   "cell_type": "code",
   "execution_count": 296,
   "metadata": {
    "collapsed": true,
    "scrolled": false
   },
   "outputs": [],
   "source": [
    "# start up chromebrowser to scrape hemisphere images \n",
    "hem_url = 'https://astrogeology.usgs.gov/search/results?q=hemisphere+enhanced&k1=target&v1=Mars'\n",
    "\n",
    "browser.visit(hem_url)\n",
    "\n",
    "hem_html = browser.html\n",
    "hem_soup = bs(hem_html,'html.parser')\n",
    "\n",
    "products_html = hem_soup.find_all('div',class_='item')\n",
    "\n",
    "hemisphere_image_urls = []\n",
    "usgs_url = 'https://astrogeology.usgs.gov'\n",
    "\n",
    "for product in products_html:\n",
    "    title = product.h3.text\n",
    "    \n",
    "    browser.click_link_by_partial_text(title)\n",
    "    \n",
    "    hem2_html = browser.html\n",
    "    hem2_soup = bs(hem2_html,'html.parser')\n",
    "    \n",
    "    temp_url = hem2_soup.find('img',class_='wide-image')['src']\n",
    "    \n",
    "    temp_dictionary = {}\n",
    "    \n",
    "    temp_dictionary['img_url'] = usgs_url + temp_url\n",
    "    temp_dictionary['title'] = title\n",
    "    \n",
    "    hemisphere_image_urls.append(temp_dictionary)\n",
    "    \n",
    "    browser.visit(hem_url)"
   ]
  },
  {
   "cell_type": "code",
   "execution_count": 297,
   "metadata": {
    "scrolled": true
   },
   "outputs": [
    {
     "data": {
      "text/plain": [
       "[{'img_url': 'https://astrogeology.usgs.gov/cache/images/cfa62af2557222a02478f1fcd781d445_cerberus_enhanced.tif_full.jpg',\n",
       "  'title': 'Cerberus Hemisphere Enhanced'},\n",
       " {'img_url': 'https://astrogeology.usgs.gov/cache/images/3cdd1cbf5e0813bba925c9030d13b62e_schiaparelli_enhanced.tif_full.jpg',\n",
       "  'title': 'Schiaparelli Hemisphere Enhanced'},\n",
       " {'img_url': 'https://astrogeology.usgs.gov/cache/images/ae209b4e408bb6c3e67b6af38168cf28_syrtis_major_enhanced.tif_full.jpg',\n",
       "  'title': 'Syrtis Major Hemisphere Enhanced'},\n",
       " {'img_url': 'https://astrogeology.usgs.gov/cache/images/7cf2da4bf549ed01c17f206327be4db7_valles_marineris_enhanced.tif_full.jpg',\n",
       "  'title': 'Valles Marineris Hemisphere Enhanced'}]"
      ]
     },
     "execution_count": 297,
     "metadata": {},
     "output_type": "execute_result"
    }
   ],
   "source": [
    "hemisphere_image_urls"
   ]
  },
  {
   "cell_type": "code",
   "execution_count": 305,
   "metadata": {
    "collapsed": true
   },
   "outputs": [],
   "source": [
    "mars_dictionary['facts_html'] = marsfacts_html_string\n",
    "mars_dictionary['hemispheres'] = hemisphere_image_urls"
   ]
  },
  {
   "cell_type": "code",
   "execution_count": 306,
   "metadata": {
    "collapsed": true
   },
   "outputs": [],
   "source": [
    "mars_dictionary"
   ]
  },
  {
   "cell_type": "code",
   "execution_count": null,
   "metadata": {},
   "outputs": [],
   "source": []
  },
  {
   "cell_type": "code",
   "execution_count": null,
   "metadata": {
    "collapsed": true
   },
   "outputs": [],
   "source": []
  }
 ],
 "metadata": {
  "kernelspec": {
   "display_name": "Python 3",
   "language": "python",
   "name": "python3"
  },
  "language_info": {
   "codemirror_mode": {
    "name": "ipython",
    "version": 3
   },
   "file_extension": ".py",
   "mimetype": "text/x-python",
   "name": "python",
   "nbconvert_exporter": "python",
   "pygments_lexer": "ipython3",
   "version": "3.6.3"
  }
 },
 "nbformat": 4,
 "nbformat_minor": 2
}
